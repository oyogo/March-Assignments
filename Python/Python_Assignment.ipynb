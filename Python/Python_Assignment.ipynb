{
  "cells": [
    {
      "cell_type": "markdown",
      "metadata": {
        "id": "PZ088xlWV93a"
      },
      "source": [
        "*Question One:* _List Comprehension_"
      ]
    },
    {
      "cell_type": "code",
      "execution_count": 3,
      "metadata": {
        "colab": {
          "base_uri": "https://localhost:8080/"
        },
        "id": "sY60Tz-0V93e",
        "outputId": "99b57749-e8b6-4c21-b4fb-0c96edcd86f3"
      },
      "outputs": [
        {
          "output_type": "stream",
          "name": "stdout",
          "text": [
            "[1, 9, 25, 49, 81, 121, 169, 225, 289, 361]\n"
          ]
        }
      ],
      "source": [
        "# Write a python program that outputs the squares of odd numbers from range of 1 to 20\n",
        "my_numbers=list(range(1,20))\n",
        "\n",
        "odd_sqrd = []\n",
        "for i in my_numbers:\n",
        "  if i%2 !=0:\n",
        "    odd_sqrd.append(i*i)\n",
        "print(odd_sqrd)\n",
        "\n"
      ]
    },
    {
      "cell_type": "markdown",
      "metadata": {
        "id": "artjwFv2V93g"
      },
      "source": [
        "*Question Two:* _Integers_"
      ]
    },
    {
      "cell_type": "code",
      "execution_count": 33,
      "metadata": {
        "colab": {
          "base_uri": "https://localhost:8080/"
        },
        "id": "SDNEA-MqV93h",
        "outputId": "aece609d-6514-4048-dfd7-ef601bca835a"
      },
      "outputs": [
        {
          "output_type": "stream",
          "name": "stdout",
          "text": [
            "10 is a multiple of 5\n"
          ]
        }
      ],
      "source": [
        "# Write a program to check whether the given integer is a multiple of 5_\n",
        "num = 10\n",
        "if num % 5 == 0:\n",
        "    print(\"{} is a multiple of 5\".format(num))\n",
        "   \n",
        "else:\n",
        "    print(\"{} is not a multiple of 5\".format(num))\n",
        "  "
      ]
    },
    {
      "cell_type": "markdown",
      "metadata": {
        "id": "HrRLqOmDV93h"
      },
      "source": [
        "*Question Three*: _If Statement_"
      ]
    },
    {
      "cell_type": "code",
      "execution_count": 16,
      "metadata": {
        "colab": {
          "base_uri": "https://localhost:8080/"
        },
        "id": "TEjd0IZHV93i",
        "outputId": "851c4290-6cbb-4211-afc0-613ef705d40c"
      },
      "outputs": [
        {
          "output_type": "stream",
          "name": "stdout",
          "text": [
            "False\n"
          ]
        }
      ],
      "source": [
        "# Write a program python program to check whether the given integer is a prime number or not\n",
        "# A prime number is a number that is only divisible by itself and 1 and its greater than 1. \n",
        "\n",
        "def isprime(pnum):\n",
        "  if pnum>1:\n",
        "    for n in range(2,pnum):\n",
        "      if (pnum % n) == 0:\n",
        "        return False\n",
        "    return True\n",
        "  else:\n",
        "    return False\n",
        "\n",
        "print(isprime(15))\n"
      ]
    },
    {
      "cell_type": "markdown",
      "metadata": {
        "id": "KWPv4IR3V93j"
      },
      "source": [
        "*Question Four:* _User-defined Functions_"
      ]
    },
    {
      "cell_type": "code",
      "execution_count": 32,
      "metadata": {
        "colab": {
          "base_uri": "https://localhost:8080/"
        },
        "id": "hoz-ytZUV93k",
        "outputId": "afdcd585-2df9-4e6d-935c-99017e584237"
      },
      "outputs": [
        {
          "output_type": "stream",
          "name": "stdout",
          "text": [
            "10\n",
            "4\n",
            "21\n",
            "2.0\n"
          ]
        }
      ],
      "source": [
        "# Write a program to implement a calculator to do basic operations (+,-,*,/)\n",
        "\n",
        "class Mycalculator(object):\n",
        "  def addTwonumbers(self,a,b):\n",
        "    print(a + b)\n",
        "\n",
        "  def subTwonumbers(self,a,b):\n",
        "    print(a-b)\n",
        "\n",
        "  def multTwonumbers(self,a,b):\n",
        "    print(a*b)\n",
        "\n",
        "  def divTwonumbers(self,a,b):\n",
        "    print(a/b)\n",
        "\n",
        "\n",
        "\n",
        "p = Mycalculator()\n",
        "p.addTwonumbers(4,6)\n",
        "p.subTwonumbers(8,4)\n",
        "p.multTwonumbers(3,7)\n",
        "p.divTwonumbers(6,3)"
      ]
    },
    {
      "cell_type": "markdown",
      "metadata": {
        "id": "BS5g_-zTV93k"
      },
      "source": [
        "*Question Five:* _Dictionaries & For Loop_"
      ]
    },
    {
      "cell_type": "code",
      "execution_count": 24,
      "metadata": {
        "colab": {
          "base_uri": "https://localhost:8080/"
        },
        "id": "rUaME8WeV93l",
        "outputId": "2945e286-a318-4a40-d5a6-a7609684c03d"
      },
      "outputs": [
        {
          "output_type": "stream",
          "name": "stdout",
          "text": [
            "Kenya High : National\n",
            "Alliance Boys High : National\n",
            "Komarock Secondary : County\n",
            "Langata Secondary : County\n"
          ]
        }
      ],
      "source": [
        "# Create a simple dictionary and write a program to print all the items in your dictionary\n",
        "\n",
        "schools = {\"Kenya High\":\"National\",\n",
        "           \"Alliance Boys High\": \"National\",\n",
        "           \"Komarock Secondary\":\"County\",\n",
        "           \"Langata Secondary\":\"County\"}\n",
        "\n",
        "for key,value in schools.items():\n",
        "  print(key,':', value)\n"
      ]
    }
  ],
  "metadata": {
    "interpreter": {
      "hash": "1e4af7d8341c13d568efc1f8500c9e0239c4d10084c4659a417b8b188748b437"
    },
    "kernelspec": {
      "display_name": "Python 3.10.1 64-bit",
      "language": "python",
      "name": "python3"
    },
    "language_info": {
      "codemirror_mode": {
        "name": "ipython",
        "version": 3
      },
      "file_extension": ".py",
      "mimetype": "text/x-python",
      "name": "python",
      "nbconvert_exporter": "python",
      "pygments_lexer": "ipython3",
      "version": "3.8.10"
    },
    "orig_nbformat": 4,
    "colab": {
      "name": "Python Assignment.ipynb",
      "provenance": []
    }
  },
  "nbformat": 4,
  "nbformat_minor": 0
}